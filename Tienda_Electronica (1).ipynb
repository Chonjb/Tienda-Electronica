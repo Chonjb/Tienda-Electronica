{
  "cells": [
    {
      "cell_type": "markdown",
      "id": "03e3d8da",
      "metadata": {
        "id": "03e3d8da"
      },
      "source": [
        "## Examen SQL: Sistema de Gestión de una Tienda de Electrónica"
      ]
    },
    {
      "cell_type": "markdown",
      "id": "68a29b64",
      "metadata": {
        "id": "68a29b64"
      },
      "source": [
        "\n",
        "**Código de inicialización**\n",
        "\n",
        "Este código permite inicializar las bibliotecas para usar SQLite en la máquina virtual de Google Colab. Además, elimina cualquier dato almacenado anteriormente en el archivo `tienda.db`. Es recomendable volver a ejecutar el código cada vez que se comience con la resolución de un nuevo ejercicio.\n"
      ]
    },
    {
      "cell_type": "markdown",
      "id": "0c8df6bc",
      "metadata": {
        "id": "0c8df6bc"
      },
      "source": [
        "\n",
        "### Ejercicios:\n",
        "\n",
        "**Creación de Tablas**:\n",
        "1. Define las siguientes tablas usando sentencias SQL:\n",
        "   - **Producto**: Campos `id_producto` (clave primaria), `nombre`, `marca`, `precio`, `stock` y `fecha_ingreso`.\n",
        "   - **Cliente**: Campos `id_cliente` (clave primaria), `nombre`, `direccion`, `telefono` y `correo_electronico`.\n",
        "   - **Venta**: Campos `id_venta` (clave primaria), `id_cliente` (clave foránea), `id_producto` (clave foránea), `cantidad`, `fecha_venta` y `total`.\n"
      ]
    },
    {
      "cell_type": "markdown",
      "id": "15fc9678",
      "metadata": {
        "id": "15fc9678"
      },
      "source": [
        "\n",
        "**Enunciado:**\n",
        "\n",
        "Estás encargado de diseñar una base de datos para una tienda de electrónica, con el objetivo de gestionar eficientemente la información sobre los productos, las ventas y los clientes. La base de datos debe contener tablas que representen los productos, los clientes y las transacciones de ventas, además de las relaciones entre estas entidades.\n"
      ]
    },
    {
      "cell_type": "markdown",
      "id": "73dfc7d6",
      "metadata": {
        "id": "73dfc7d6"
      },
      "source": [
        "2. **DBML del Esquema de Tablas**: Genera el código DBML del diseño de las tablas anteriores utilizando [dbdiagram.io](https://dbdiagram.io). Asegúrate de incluir todas las relaciones y restricciones."
      ]
    },
    {
      "cell_type": "markdown",
      "id": "f823358f",
      "metadata": {
        "id": "f823358f"
      },
      "source": [
        "\n",
        "3. **Carga de Datos**: Inserta datos de ejemplo: al menos 6 productos, 4 clientes y 10 registros de ventas en las tablas correspondientes."
      ]
    },
    {
      "cell_type": "markdown",
      "id": "8fe9bc81",
      "metadata": {
        "id": "8fe9bc81"
      },
      "source": [
        "\n",
        "**Consultas SQL**:\n",
        "\n",
        "4. **Listado de Productos**: Muestra todos los productos disponibles ordenados por precio en forma ascendente.\n",
        "\n",
        "5. **Clientes con Compras Altas**: Lista los clientes que hayan realizado una compra con un total mayor a 500. Incluye `id_cliente`, `nombre` y `total`.\n",
        "\n",
        "6. **Ventas Recientes**: Muestra las últimas 5 ventas realizadas. Incluye `id_venta`, `fecha_venta`, `id_producto`, `cantidad` y `total`.\n",
        "\n",
        "7. **Productos con Bajo Stock**: Muestra los productos cuyo stock sea menor a 10 unidades. Incluye `id_producto`, `nombre`, `stock` y `precio`.\n",
        "\n",
        "8. **Ventas por Cliente**: Muestra el total de ventas realizadas por cada cliente, ordenado de mayor a menor. Incluye `id_cliente`, `nombre` y `total_ventas`.\n",
        "\n",
        "9. **Ventas Totales por Producto**: Calcula el número total de unidades vendidas por cada producto. Incluye `id_producto`, `nombre` y `total_vendido`.\n",
        "\n",
        "10. **Productos Más Vendidos**: Lista los productos que han sido vendidos en más de 3 transacciones distintas.\n"
      ]
    },
    {
      "cell_type": "markdown",
      "source": [
        "**Código de inicialización**"
      ],
      "metadata": {
        "id": "iD2IaEZlfwk-"
      },
      "id": "iD2IaEZlfwk-"
    },
    {
      "cell_type": "code",
      "source": [
        "!pip install pymysql\n",
        "!pip install ipython-sql \"sqlalchemy<2.0\"\n",
        "%load_ext sql\n",
        "!rm -rf tienda.db\n",
        "%sql sqlite:///tienda.db"
      ],
      "metadata": {
        "colab": {
          "base_uri": "https://localhost:8080/"
        },
        "id": "92sMwg2rRRAs",
        "outputId": "18f351c9-9463-4f3e-8ecc-bbddd1ab2e2c"
      },
      "id": "92sMwg2rRRAs",
      "execution_count": 1,
      "outputs": [
        {
          "output_type": "stream",
          "name": "stdout",
          "text": [
            "Requirement already satisfied: pymysql in /usr/local/lib/python3.10/dist-packages (1.1.1)\n",
            "Requirement already satisfied: ipython-sql in /usr/local/lib/python3.10/dist-packages (0.4.1)\n",
            "Requirement already satisfied: sqlalchemy<2.0 in /usr/local/lib/python3.10/dist-packages (1.4.54)\n",
            "Requirement already satisfied: prettytable<1 in /usr/local/lib/python3.10/dist-packages (from ipython-sql) (0.7.2)\n",
            "Requirement already satisfied: ipython>=1.0 in /usr/local/lib/python3.10/dist-packages (from ipython-sql) (7.34.0)\n",
            "Requirement already satisfied: sqlparse in /usr/local/lib/python3.10/dist-packages (from ipython-sql) (0.5.2)\n",
            "Requirement already satisfied: six in /usr/local/lib/python3.10/dist-packages (from ipython-sql) (1.16.0)\n",
            "Requirement already satisfied: ipython-genutils>=0.1.0 in /usr/local/lib/python3.10/dist-packages (from ipython-sql) (0.2.0)\n",
            "Requirement already satisfied: greenlet!=0.4.17 in /usr/local/lib/python3.10/dist-packages (from sqlalchemy<2.0) (3.1.1)\n",
            "Requirement already satisfied: setuptools>=18.5 in /usr/local/lib/python3.10/dist-packages (from ipython>=1.0->ipython-sql) (75.1.0)\n",
            "Requirement already satisfied: jedi>=0.16 in /usr/local/lib/python3.10/dist-packages (from ipython>=1.0->ipython-sql) (0.19.2)\n",
            "Requirement already satisfied: decorator in /usr/local/lib/python3.10/dist-packages (from ipython>=1.0->ipython-sql) (4.4.2)\n",
            "Requirement already satisfied: pickleshare in /usr/local/lib/python3.10/dist-packages (from ipython>=1.0->ipython-sql) (0.7.5)\n",
            "Requirement already satisfied: traitlets>=4.2 in /usr/local/lib/python3.10/dist-packages (from ipython>=1.0->ipython-sql) (5.7.1)\n",
            "Requirement already satisfied: prompt-toolkit!=3.0.0,!=3.0.1,<3.1.0,>=2.0.0 in /usr/local/lib/python3.10/dist-packages (from ipython>=1.0->ipython-sql) (3.0.48)\n",
            "Requirement already satisfied: pygments in /usr/local/lib/python3.10/dist-packages (from ipython>=1.0->ipython-sql) (2.18.0)\n",
            "Requirement already satisfied: backcall in /usr/local/lib/python3.10/dist-packages (from ipython>=1.0->ipython-sql) (0.2.0)\n",
            "Requirement already satisfied: matplotlib-inline in /usr/local/lib/python3.10/dist-packages (from ipython>=1.0->ipython-sql) (0.1.7)\n",
            "Requirement already satisfied: pexpect>4.3 in /usr/local/lib/python3.10/dist-packages (from ipython>=1.0->ipython-sql) (4.9.0)\n",
            "Requirement already satisfied: parso<0.9.0,>=0.8.4 in /usr/local/lib/python3.10/dist-packages (from jedi>=0.16->ipython>=1.0->ipython-sql) (0.8.4)\n",
            "Requirement already satisfied: ptyprocess>=0.5 in /usr/local/lib/python3.10/dist-packages (from pexpect>4.3->ipython>=1.0->ipython-sql) (0.7.0)\n",
            "Requirement already satisfied: wcwidth in /usr/local/lib/python3.10/dist-packages (from prompt-toolkit!=3.0.0,!=3.0.1,<3.1.0,>=2.0.0->ipython>=1.0->ipython-sql) (0.2.13)\n"
          ]
        }
      ]
    },
    {
      "cell_type": "markdown",
      "source": [
        "Define las siguientes tablas usando sentencias SQL:\n",
        "Producto: Campos id_producto (clave primaria), nombre, marca, precio, stock y fecha_ingreso.\n",
        "Cliente: Campos id_cliente (clave primaria), nombre, direccion, telefono y correo_electronico.\n",
        "Venta: Campos id_venta (clave primaria), id_cliente (clave foránea), id_producto (clave foránea), cantidad, fecha_venta y total."
      ],
      "metadata": {
        "id": "3HstiCqMfquA"
      },
      "id": "3HstiCqMfquA"
    },
    {
      "cell_type": "code",
      "source": [
        "%%sql\n",
        "CREATE TABLE Producto (\n",
        "    id_producto INT PRIMARY KEY,\n",
        "    nombre VARCHAR(100) NOT NULL,\n",
        "    marca VARCHAR(100) NOT NULL,\n",
        "    precio DECIMAL(10, 2) NOT NULL,\n",
        "    stock INT NOT NULL,\n",
        "    fecha_ingreso DATE NOT NULL);\n",
        "\n",
        "CREATE TABLE Cliente (\n",
        "    id_cliente INT PRIMARY KEY,\n",
        "    nombre VARCHAR(100) NOT NULL,\n",
        "    direccion VARCHAR(255),\n",
        "    telefono VARCHAR(15),\n",
        "    correo_electronico VARCHAR(100));\n",
        "\n",
        "CREATE TABLE Venta (\n",
        "    id_venta INT PRIMARY KEY,\n",
        "    id_cliente INT NOT NULL,\n",
        "    id_producto INT NOT NULL,\n",
        "    cantidad INT NOT NULL,\n",
        "    fecha_venta DATE NOT NULL,\n",
        "    total DECIMAL(10, 2) NOT NULL,\n",
        "    FOREIGN KEY (id_cliente) REFERENCES Cliente (id_cliente),\n",
        "    FOREIGN KEY (id_producto) REFERENCES Producto (id_producto));"
      ],
      "metadata": {
        "colab": {
          "base_uri": "https://localhost:8080/"
        },
        "id": "c49q-85NRdNM",
        "outputId": "c824e18b-627f-48a6-a0e8-530001b719ff"
      },
      "id": "c49q-85NRdNM",
      "execution_count": 2,
      "outputs": [
        {
          "output_type": "stream",
          "name": "stdout",
          "text": [
            " * sqlite:///ejemplos.db\n",
            "Done.\n",
            "Done.\n",
            "Done.\n"
          ]
        },
        {
          "output_type": "execute_result",
          "data": {
            "text/plain": [
              "[]"
            ]
          },
          "metadata": {},
          "execution_count": 2
        }
      ]
    },
    {
      "cell_type": "markdown",
      "source": [
        "2- DBML del Esquema de Tablas: Genera el código DBML del diseño de las tablas anteriores utilizando dbdiagram.io. Asegúrate de incluir todas las relaciones y restricciones."
      ],
      "metadata": {
        "id": "TayGVHhkl-CB"
      },
      "id": "TayGVHhkl-CB"
    },
    {
      "cell_type": "markdown",
      "source": [
        "![imagen_2024-11-25_201635899.png](data:image/png;base64,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)"
      ],
      "metadata": {
        "id": "M5TJk-0om3ON"
      },
      "id": "M5TJk-0om3ON"
    },
    {
      "cell_type": "markdown",
      "source": [
        "3- Carga de Datos: Inserta datos de ejemplo: al menos 6 productos, 4 clientes y 10 registros de ventas en las tablas correspondientes."
      ],
      "metadata": {
        "id": "l8_qzFiGfmOp"
      },
      "id": "l8_qzFiGfmOp"
    },
    {
      "cell_type": "code",
      "source": [
        "%%sql\n",
        "INSERT INTO Producto (id_producto, nombre, marca, precio, stock, fecha_ingreso)\n",
        "VALUES\n",
        "(1, 'Smartphone', 'Samsung', 300, 15, '2024-11-01'),\n",
        "(2, 'Laptop', 'Dell', 800, 10, '2024-11-05'),\n",
        "(3, 'Tablet', 'Apple', 400, 8, '2024-11-10'),\n",
        "(4, 'Smartwatch', 'Garmin', 250, 20, '2024-11-12'),\n",
        "(5, 'Televisor', 'LG', 1200, 5, '2024-11-15'),\n",
        "(6, 'Auriculares', 'Sony', 150, 50, '2024-11-20');\n",
        "\n",
        "INSERT INTO Cliente (id_cliente, nombre, direccion, telefono, correo_electronico)\n",
        "VALUES\n",
        "(1, 'Carlos López', 'Calle Falsa 123', '123456789', 'carlos@gmail.com'),\n",
        "(2, 'María Pérez', 'Av. Real 456', '987654321', 'maria@gmail.com'),\n",
        "(3, 'Luis Gómez', 'Plaza Central 789', '555123456', 'luis@gmail.com'),\n",
        "(4, 'Ana Torres', 'Calle Luna 321', '444987654', 'ana@gmail.com');\n",
        "\n",
        "INSERT INTO Venta (id_venta, id_cliente, id_producto, cantidad, fecha_venta, total)\n",
        "VALUES\n",
        "(1, 1, 1, 2, '2024-11-21', 600),\n",
        "(2, 2, 2, 1, '2024-11-22', 800),\n",
        "(3, 3, 3, 3, '2024-11-23', 1200),\n",
        "(4, 4, 4, 1, '2024-11-24', 250),\n",
        "(5, 1, 5, 1, '2024-11-24', 1200),\n",
        "(6, 2, 6, 2, '2024-11-25', 300),\n",
        "(7, 3, 1, 1, '2024-11-25', 300),\n",
        "(8, 4, 2, 1, '2024-11-25', 800),\n",
        "(9, 1, 3, 1, '2024-11-25', 400),\n",
        "(10, 2, 4, 2, '2024-11-25', 500),\n",
        "(11, 1, 1, 2, '2024-11-21', 600),\n",
        "(12, 1, 1, 2, '2024-11-21', 600),\n",
        "(13, 1, 1, 2, '2024-11-21', 600);"
      ],
      "metadata": {
        "colab": {
          "base_uri": "https://localhost:8080/"
        },
        "id": "FJMHeHsZRjRY",
        "outputId": "57e7b036-8bc8-4745-9882-c4155ddf9113"
      },
      "id": "FJMHeHsZRjRY",
      "execution_count": 3,
      "outputs": [
        {
          "output_type": "stream",
          "name": "stdout",
          "text": [
            " * sqlite:///ejemplos.db\n",
            "6 rows affected.\n",
            "4 rows affected.\n",
            "13 rows affected.\n"
          ]
        },
        {
          "output_type": "execute_result",
          "data": {
            "text/plain": [
              "[]"
            ]
          },
          "metadata": {},
          "execution_count": 3
        }
      ]
    },
    {
      "cell_type": "markdown",
      "source": [
        "Listado de Productos: Muestra todos los productos disponibles ordenados por precio en forma ascendente."
      ],
      "metadata": {
        "id": "MWWlMulGW4ZP"
      },
      "id": "MWWlMulGW4ZP"
    },
    {
      "cell_type": "code",
      "source": [
        "%%sql\n",
        "SELECT * FROM Producto\n",
        "ORDER BY precio ASC;"
      ],
      "metadata": {
        "colab": {
          "base_uri": "https://localhost:8080/",
          "height": 203
        },
        "id": "klXcYDBRW5X1",
        "outputId": "7679ae84-b539-4c73-943c-41e8d16cfd67"
      },
      "id": "klXcYDBRW5X1",
      "execution_count": 4,
      "outputs": [
        {
          "output_type": "stream",
          "name": "stdout",
          "text": [
            " * sqlite:///ejemplos.db\n",
            "Done.\n"
          ]
        },
        {
          "output_type": "execute_result",
          "data": {
            "text/plain": [
              "[(6, 'Auriculares', 'Sony', 150, 50, '2024-11-20'),\n",
              " (4, 'Smartwatch', 'Garmin', 250, 20, '2024-11-12'),\n",
              " (1, 'Smartphone', 'Samsung', 300, 15, '2024-11-01'),\n",
              " (3, 'Tablet', 'Apple', 400, 8, '2024-11-10'),\n",
              " (2, 'Laptop', 'Dell', 800, 10, '2024-11-05'),\n",
              " (5, 'Televisor', 'LG', 1200, 5, '2024-11-15')]"
            ],
            "text/html": [
              "<table>\n",
              "    <tr>\n",
              "        <th>id_producto</th>\n",
              "        <th>nombre</th>\n",
              "        <th>marca</th>\n",
              "        <th>precio</th>\n",
              "        <th>stock</th>\n",
              "        <th>fecha_ingreso</th>\n",
              "    </tr>\n",
              "    <tr>\n",
              "        <td>6</td>\n",
              "        <td>Auriculares</td>\n",
              "        <td>Sony</td>\n",
              "        <td>150</td>\n",
              "        <td>50</td>\n",
              "        <td>2024-11-20</td>\n",
              "    </tr>\n",
              "    <tr>\n",
              "        <td>4</td>\n",
              "        <td>Smartwatch</td>\n",
              "        <td>Garmin</td>\n",
              "        <td>250</td>\n",
              "        <td>20</td>\n",
              "        <td>2024-11-12</td>\n",
              "    </tr>\n",
              "    <tr>\n",
              "        <td>1</td>\n",
              "        <td>Smartphone</td>\n",
              "        <td>Samsung</td>\n",
              "        <td>300</td>\n",
              "        <td>15</td>\n",
              "        <td>2024-11-01</td>\n",
              "    </tr>\n",
              "    <tr>\n",
              "        <td>3</td>\n",
              "        <td>Tablet</td>\n",
              "        <td>Apple</td>\n",
              "        <td>400</td>\n",
              "        <td>8</td>\n",
              "        <td>2024-11-10</td>\n",
              "    </tr>\n",
              "    <tr>\n",
              "        <td>2</td>\n",
              "        <td>Laptop</td>\n",
              "        <td>Dell</td>\n",
              "        <td>800</td>\n",
              "        <td>10</td>\n",
              "        <td>2024-11-05</td>\n",
              "    </tr>\n",
              "    <tr>\n",
              "        <td>5</td>\n",
              "        <td>Televisor</td>\n",
              "        <td>LG</td>\n",
              "        <td>1200</td>\n",
              "        <td>5</td>\n",
              "        <td>2024-11-15</td>\n",
              "    </tr>\n",
              "</table>"
            ]
          },
          "metadata": {},
          "execution_count": 4
        }
      ]
    },
    {
      "cell_type": "markdown",
      "source": [
        "Clientes con Compras Altas: Lista los clientes que hayan realizado una compra con un total mayor a 500. Incluye id_cliente, nombre y total."
      ],
      "metadata": {
        "id": "CMDggF_deryQ"
      },
      "id": "CMDggF_deryQ"
    },
    {
      "cell_type": "code",
      "source": [
        "%%sql\n",
        "SELECT DISTINCT Venta.id_cliente, Cliente.nombre, Venta.total\n",
        "FROM Venta\n",
        "JOIN Cliente ON Venta.id_cliente = Cliente.id_cliente\n",
        "WHERE Venta.total > 500;"
      ],
      "metadata": {
        "colab": {
          "base_uri": "https://localhost:8080/",
          "height": 182
        },
        "id": "KJHIUI2-en3P",
        "outputId": "483722fd-8549-4b6e-bc59-f34f1322a538"
      },
      "id": "KJHIUI2-en3P",
      "execution_count": 5,
      "outputs": [
        {
          "output_type": "stream",
          "name": "stdout",
          "text": [
            " * sqlite:///ejemplos.db\n",
            "Done.\n"
          ]
        },
        {
          "output_type": "execute_result",
          "data": {
            "text/plain": [
              "[(1, 'Carlos López', 600),\n",
              " (2, 'María Pérez', 800),\n",
              " (3, 'Luis Gómez', 1200),\n",
              " (1, 'Carlos López', 1200),\n",
              " (4, 'Ana Torres', 800)]"
            ],
            "text/html": [
              "<table>\n",
              "    <tr>\n",
              "        <th>id_cliente</th>\n",
              "        <th>nombre</th>\n",
              "        <th>total</th>\n",
              "    </tr>\n",
              "    <tr>\n",
              "        <td>1</td>\n",
              "        <td>Carlos López</td>\n",
              "        <td>600</td>\n",
              "    </tr>\n",
              "    <tr>\n",
              "        <td>2</td>\n",
              "        <td>María Pérez</td>\n",
              "        <td>800</td>\n",
              "    </tr>\n",
              "    <tr>\n",
              "        <td>3</td>\n",
              "        <td>Luis Gómez</td>\n",
              "        <td>1200</td>\n",
              "    </tr>\n",
              "    <tr>\n",
              "        <td>1</td>\n",
              "        <td>Carlos López</td>\n",
              "        <td>1200</td>\n",
              "    </tr>\n",
              "    <tr>\n",
              "        <td>4</td>\n",
              "        <td>Ana Torres</td>\n",
              "        <td>800</td>\n",
              "    </tr>\n",
              "</table>"
            ]
          },
          "metadata": {},
          "execution_count": 5
        }
      ]
    },
    {
      "cell_type": "markdown",
      "source": [
        "Ventas Recientes: Muestra las últimas 5 ventas realizadas. Incluye id_venta, fecha_venta, id_producto, cantidad y total."
      ],
      "metadata": {
        "id": "r-V47Rble0hz"
      },
      "id": "r-V47Rble0hz"
    },
    {
      "cell_type": "code",
      "source": [
        "%%sql\n",
        "SELECT id_venta, fecha_venta, id_producto, cantidad, total\n",
        "FROM Venta\n",
        "ORDER BY fecha_venta DESC\n",
        "LIMIT 5;"
      ],
      "metadata": {
        "colab": {
          "base_uri": "https://localhost:8080/",
          "height": 182
        },
        "id": "cqwstzjae1Mf",
        "outputId": "a7a0b63b-085e-43b7-a017-536aa23d6030"
      },
      "id": "cqwstzjae1Mf",
      "execution_count": 6,
      "outputs": [
        {
          "output_type": "stream",
          "name": "stdout",
          "text": [
            " * sqlite:///ejemplos.db\n",
            "Done.\n"
          ]
        },
        {
          "output_type": "execute_result",
          "data": {
            "text/plain": [
              "[(6, '2024-11-25', 6, 2, 300),\n",
              " (7, '2024-11-25', 1, 1, 300),\n",
              " (8, '2024-11-25', 2, 1, 800),\n",
              " (9, '2024-11-25', 3, 1, 400),\n",
              " (10, '2024-11-25', 4, 2, 500)]"
            ],
            "text/html": [
              "<table>\n",
              "    <tr>\n",
              "        <th>id_venta</th>\n",
              "        <th>fecha_venta</th>\n",
              "        <th>id_producto</th>\n",
              "        <th>cantidad</th>\n",
              "        <th>total</th>\n",
              "    </tr>\n",
              "    <tr>\n",
              "        <td>6</td>\n",
              "        <td>2024-11-25</td>\n",
              "        <td>6</td>\n",
              "        <td>2</td>\n",
              "        <td>300</td>\n",
              "    </tr>\n",
              "    <tr>\n",
              "        <td>7</td>\n",
              "        <td>2024-11-25</td>\n",
              "        <td>1</td>\n",
              "        <td>1</td>\n",
              "        <td>300</td>\n",
              "    </tr>\n",
              "    <tr>\n",
              "        <td>8</td>\n",
              "        <td>2024-11-25</td>\n",
              "        <td>2</td>\n",
              "        <td>1</td>\n",
              "        <td>800</td>\n",
              "    </tr>\n",
              "    <tr>\n",
              "        <td>9</td>\n",
              "        <td>2024-11-25</td>\n",
              "        <td>3</td>\n",
              "        <td>1</td>\n",
              "        <td>400</td>\n",
              "    </tr>\n",
              "    <tr>\n",
              "        <td>10</td>\n",
              "        <td>2024-11-25</td>\n",
              "        <td>4</td>\n",
              "        <td>2</td>\n",
              "        <td>500</td>\n",
              "    </tr>\n",
              "</table>"
            ]
          },
          "metadata": {},
          "execution_count": 6
        }
      ]
    },
    {
      "cell_type": "markdown",
      "source": [
        "Productos con Bajo Stock: Muestra los productos cuyo stock sea menor a 10 unidades. Incluye id_producto, nombre, stock y precio."
      ],
      "metadata": {
        "id": "Ihh28LWze_9N"
      },
      "id": "Ihh28LWze_9N"
    },
    {
      "cell_type": "code",
      "source": [
        "%%sql\n",
        "SELECT id_producto, nombre, stock, precio\n",
        "FROM Producto\n",
        "WHERE stock < 10;"
      ],
      "metadata": {
        "colab": {
          "base_uri": "https://localhost:8080/",
          "height": 118
        },
        "id": "19Eu-tsvfAu4",
        "outputId": "15edf28f-5259-4fb7-fff0-e2d0f94963dc"
      },
      "id": "19Eu-tsvfAu4",
      "execution_count": 7,
      "outputs": [
        {
          "output_type": "stream",
          "name": "stdout",
          "text": [
            " * sqlite:///ejemplos.db\n",
            "Done.\n"
          ]
        },
        {
          "output_type": "execute_result",
          "data": {
            "text/plain": [
              "[(3, 'Tablet', 8, 400), (5, 'Televisor', 5, 1200)]"
            ],
            "text/html": [
              "<table>\n",
              "    <tr>\n",
              "        <th>id_producto</th>\n",
              "        <th>nombre</th>\n",
              "        <th>stock</th>\n",
              "        <th>precio</th>\n",
              "    </tr>\n",
              "    <tr>\n",
              "        <td>3</td>\n",
              "        <td>Tablet</td>\n",
              "        <td>8</td>\n",
              "        <td>400</td>\n",
              "    </tr>\n",
              "    <tr>\n",
              "        <td>5</td>\n",
              "        <td>Televisor</td>\n",
              "        <td>5</td>\n",
              "        <td>1200</td>\n",
              "    </tr>\n",
              "</table>"
            ]
          },
          "metadata": {},
          "execution_count": 7
        }
      ]
    },
    {
      "cell_type": "markdown",
      "source": [
        "Ventas por Cliente: Muestra el total de ventas realizadas por cada cliente, ordenado de mayor a menor. Incluye id_cliente, nombre y total_ventas."
      ],
      "metadata": {
        "id": "daaCTQzLfJKV"
      },
      "id": "daaCTQzLfJKV"
    },
    {
      "cell_type": "code",
      "source": [
        "%%sql\n",
        "SELECT Cliente.id_cliente, Cliente.nombre, SUM(Venta.cantidad) AS total_ventas\n",
        "FROM Venta\n",
        "JOIN Cliente ON Venta.id_cliente = Cliente.id_cliente\n",
        "GROUP BY Cliente.id_cliente\n",
        "ORDER BY total_ventas DESC;"
      ],
      "metadata": {
        "colab": {
          "base_uri": "https://localhost:8080/",
          "height": 161
        },
        "id": "0khF29RSfK-m",
        "outputId": "5254f4ac-fc6c-46f6-dc04-5993c622d4e2"
      },
      "id": "0khF29RSfK-m",
      "execution_count": 8,
      "outputs": [
        {
          "output_type": "stream",
          "name": "stdout",
          "text": [
            " * sqlite:///ejemplos.db\n",
            "Done.\n"
          ]
        },
        {
          "output_type": "execute_result",
          "data": {
            "text/plain": [
              "[(1, 'Carlos López', 10),\n",
              " (2, 'María Pérez', 5),\n",
              " (3, 'Luis Gómez', 4),\n",
              " (4, 'Ana Torres', 2)]"
            ],
            "text/html": [
              "<table>\n",
              "    <tr>\n",
              "        <th>id_cliente</th>\n",
              "        <th>nombre</th>\n",
              "        <th>total_ventas</th>\n",
              "    </tr>\n",
              "    <tr>\n",
              "        <td>1</td>\n",
              "        <td>Carlos López</td>\n",
              "        <td>10</td>\n",
              "    </tr>\n",
              "    <tr>\n",
              "        <td>2</td>\n",
              "        <td>María Pérez</td>\n",
              "        <td>5</td>\n",
              "    </tr>\n",
              "    <tr>\n",
              "        <td>3</td>\n",
              "        <td>Luis Gómez</td>\n",
              "        <td>4</td>\n",
              "    </tr>\n",
              "    <tr>\n",
              "        <td>4</td>\n",
              "        <td>Ana Torres</td>\n",
              "        <td>2</td>\n",
              "    </tr>\n",
              "</table>"
            ]
          },
          "metadata": {},
          "execution_count": 8
        }
      ]
    },
    {
      "cell_type": "markdown",
      "source": [
        "Ventas Totales por Producto: Calcula el número total de unidades vendidas por cada producto. Incluye id_producto, nombre y total_vendido."
      ],
      "metadata": {
        "id": "vo5MMclgfTDl"
      },
      "id": "vo5MMclgfTDl"
    },
    {
      "cell_type": "code",
      "source": [
        "%%sql\n",
        "SELECT Producto.id_producto, Producto.nombre, SUM(Venta.cantidad) AS total_vendido\n",
        "FROM Venta\n",
        "JOIN Producto ON Venta.id_producto = Producto.id_producto\n",
        "GROUP BY Producto.id_producto;"
      ],
      "metadata": {
        "colab": {
          "base_uri": "https://localhost:8080/",
          "height": 203
        },
        "id": "VZwPJyHvfT_W",
        "outputId": "ba1e2d45-bfa8-4744-fd57-9c01091b6874"
      },
      "id": "VZwPJyHvfT_W",
      "execution_count": 9,
      "outputs": [
        {
          "output_type": "stream",
          "name": "stdout",
          "text": [
            " * sqlite:///ejemplos.db\n",
            "Done.\n"
          ]
        },
        {
          "output_type": "execute_result",
          "data": {
            "text/plain": [
              "[(1, 'Smartphone', 9),\n",
              " (2, 'Laptop', 2),\n",
              " (3, 'Tablet', 4),\n",
              " (4, 'Smartwatch', 3),\n",
              " (5, 'Televisor', 1),\n",
              " (6, 'Auriculares', 2)]"
            ],
            "text/html": [
              "<table>\n",
              "    <tr>\n",
              "        <th>id_producto</th>\n",
              "        <th>nombre</th>\n",
              "        <th>total_vendido</th>\n",
              "    </tr>\n",
              "    <tr>\n",
              "        <td>1</td>\n",
              "        <td>Smartphone</td>\n",
              "        <td>9</td>\n",
              "    </tr>\n",
              "    <tr>\n",
              "        <td>2</td>\n",
              "        <td>Laptop</td>\n",
              "        <td>2</td>\n",
              "    </tr>\n",
              "    <tr>\n",
              "        <td>3</td>\n",
              "        <td>Tablet</td>\n",
              "        <td>4</td>\n",
              "    </tr>\n",
              "    <tr>\n",
              "        <td>4</td>\n",
              "        <td>Smartwatch</td>\n",
              "        <td>3</td>\n",
              "    </tr>\n",
              "    <tr>\n",
              "        <td>5</td>\n",
              "        <td>Televisor</td>\n",
              "        <td>1</td>\n",
              "    </tr>\n",
              "    <tr>\n",
              "        <td>6</td>\n",
              "        <td>Auriculares</td>\n",
              "        <td>2</td>\n",
              "    </tr>\n",
              "</table>"
            ]
          },
          "metadata": {},
          "execution_count": 9
        }
      ]
    },
    {
      "cell_type": "markdown",
      "source": [
        "Productos Más Vendidos: Lista los productos que han sido vendidos en más de 3 transacciones distintas."
      ],
      "metadata": {
        "id": "3ZL9suzgfgO_"
      },
      "id": "3ZL9suzgfgO_"
    },
    {
      "cell_type": "code",
      "source": [
        "%%sql\n",
        "SELECT Producto.id_producto, Producto.nombre, COUNT(Venta.id_venta) AS transacciones\n",
        "FROM Venta\n",
        "JOIN Producto ON Venta.id_producto = Producto.id_producto\n",
        "GROUP BY Producto.id_producto\n",
        "HAVING COUNT(Venta.id_venta) > 3;"
      ],
      "metadata": {
        "colab": {
          "base_uri": "https://localhost:8080/",
          "height": 96
        },
        "id": "NYt7bvQVfhO4",
        "outputId": "e27c4cc8-cf35-498d-f6b3-d8799d11451c"
      },
      "id": "NYt7bvQVfhO4",
      "execution_count": 10,
      "outputs": [
        {
          "output_type": "stream",
          "name": "stdout",
          "text": [
            " * sqlite:///ejemplos.db\n",
            "Done.\n"
          ]
        },
        {
          "output_type": "execute_result",
          "data": {
            "text/plain": [
              "[(1, 'Smartphone', 5)]"
            ],
            "text/html": [
              "<table>\n",
              "    <tr>\n",
              "        <th>id_producto</th>\n",
              "        <th>nombre</th>\n",
              "        <th>transacciones</th>\n",
              "    </tr>\n",
              "    <tr>\n",
              "        <td>1</td>\n",
              "        <td>Smartphone</td>\n",
              "        <td>5</td>\n",
              "    </tr>\n",
              "</table>"
            ]
          },
          "metadata": {},
          "execution_count": 10
        }
      ]
    }
  ],
  "metadata": {
    "language_info": {
      "name": "python"
    },
    "colab": {
      "provenance": []
    },
    "kernelspec": {
      "name": "python3",
      "display_name": "Python 3"
    }
  },
  "nbformat": 4,
  "nbformat_minor": 5
}